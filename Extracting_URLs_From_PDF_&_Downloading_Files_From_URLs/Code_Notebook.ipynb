{
 "cells": [
  {
   "cell_type": "markdown",
   "metadata": {},
   "source": [
    "## Extracting_URLs_From_PDF_&_Downloading_Files_From_URLs\n"
   ]
  },
  {
   "cell_type": "markdown",
   "metadata": {},
   "source": [
    "This notebook divided into 3 parts\n",
    "\n",
    "- Step - 1: Getting PDF file paths from different directories\n",
    "- Step - 2: Extracting the URLs from PDF files\n",
    "- Step - 3: Downloading the data from the Extracted URL"
   ]
  },
  {
   "cell_type": "markdown",
   "metadata": {},
   "source": [
    "### Step - 1: Getting PDF file paths from different directories\n"
   ]
  },
  {
   "cell_type": "code",
   "execution_count": 1,
   "metadata": {},
   "outputs": [],
   "source": [
    "main_dir = \"G:\\Learnings\\Practice\\Extracting_URLs_From_PDF_&_Downloading_Files_From_URLs\"\n",
    "\n",
    "req_file_paths = []\n",
    "\n",
    "import os\n",
    "\n",
    "for root, directory, files in os.walk(main_dir): \n",
    "    for file in files: # Iterating all the files\n",
    "        if file.endswith(\".pdf\"): # req file Extension\n",
    "            req_file_paths.append(os.path.join(root, file)) #Joining root path and file path and storing in a list"
   ]
  },
  {
   "cell_type": "markdown",
   "metadata": {},
   "source": [
    "### Step - 2: Extracting the URLs from PDF files\n",
    "\n",
    "Usinf pdfx package we can extract the all the urls in the pdf file in the dictionary format"
   ]
  },
  {
   "cell_type": "code",
   "execution_count": 2,
   "metadata": {},
   "outputs": [],
   "source": [
    "import pdfx"
   ]
  },
  {
   "cell_type": "code",
   "execution_count": 3,
   "metadata": {},
   "outputs": [
    {
     "name": "stdout",
     "output_type": "stream",
     "text": [
      "-----PDF object-----\n",
      "<pdfx.PDFx object at 0x000002084F7B3790>\n",
      "-----Meta Data-----\n",
      "{'Producer': 'Skia/PDF m89', 'Pages': 1}\n",
      "----FileName----\n",
      "Python_Home_Site.pdf\n",
      "----Extraxted URL from the file----\n",
      "{'url': ['https://www.python.org/doc/']}\n",
      "\n",
      "-----PDF object-----\n",
      "<pdfx.PDFx object at 0x000002084F804250>\n",
      "-----Meta Data-----\n",
      "{'Producer': 'Skia/PDF m89', 'Pages': 1}\n",
      "----FileName----\n",
      "About_Python.pdf\n",
      "----Extraxted URL from the file----\n",
      "{'url': ['https://www.python.org/about/']}\n",
      "\n",
      "-----PDF object-----\n",
      "<pdfx.PDFx object at 0x000002084F809B50>\n",
      "-----Meta Data-----\n",
      "{'Producer': 'Skia/PDF m89', 'Pages': 1}\n",
      "----FileName----\n",
      "Download_Python.pdf\n",
      "----Extraxted URL from the file----\n",
      "{'url': ['https://www.python.org/downloads/']}\n",
      "\n",
      "-----PDF object-----\n",
      "<pdfx.PDFx object at 0x000002084F809AF0>\n",
      "-----Meta Data-----\n",
      "{'Producer': 'Skia/PDF m89', 'Pages': 1}\n",
      "----FileName----\n",
      "Python_books.pdf\n",
      "----Extraxted URL from the file----\n",
      "{'url': ['https://wiki.python.org/moin/PythonBooks']}\n",
      "\n",
      "-----PDF object-----\n",
      "<pdfx.PDFx object at 0x000002084F804C40>\n",
      "-----Meta Data-----\n",
      "{'Producer': 'Skia/PDF m89', 'Pages': 1}\n",
      "----FileName----\n",
      "Python_docs.pdf\n",
      "----Extraxted URL from the file----\n",
      "{'url': ['https://www.python.org/doc/']}\n",
      "\n",
      "-----PDF object-----\n",
      "<pdfx.PDFx object at 0x000002084F8090D0>\n",
      "-----Meta Data-----\n",
      "{'Producer': 'Skia/PDF m89', 'Pages': 2}\n",
      "----FileName----\n",
      "Python_docs_Beginners_Guide.pdf\n",
      "----Extraxted URL from the file----\n",
      "{'url': ['https://wiki.python.org/moin/BeginnersGuide/NonProgrammers', 'https://wiki.python.org/moin/BeginnersGuide/Overview', 'https://wiki.python.org/moin/BeginnersGuide', 'python.org']}\n",
      "\n"
     ]
    }
   ],
   "source": [
    "urls = []\n",
    "for path in req_file_paths:\n",
    "    pdf = pdfx.PDFx(path) \n",
    "\n",
    "    # displaying pdf object \n",
    "    print('-----PDF object-----')\n",
    "\n",
    "    print(pdf)\n",
    "    \n",
    "    # displaying Metadata of the pdf like creator Name, Data, #of Pages etc.,\n",
    "    \n",
    "    print('-----Meta Data-----')\n",
    "    print(pdf.get_metadata())\n",
    "    \n",
    "    # displaying File Names\n",
    "    \n",
    "    print('----FileName----')\n",
    "    print(path.split('\\\\')[-1]) \n",
    "    \n",
    "    # Extracting the URLs from the PDF files\n",
    "    print('----Extraxted URL from the file----')\n",
    "    print(pdf.get_references_as_dict())\n",
    "    \n",
    "    # Savong the urls in a list\n",
    "    urls += pdf.get_references_as_dict()['url']\n",
    "    print()"
   ]
  },
  {
   "cell_type": "markdown",
   "metadata": {},
   "source": [
    "### Step - 3: Downloading the data from the Extracted URL"
   ]
  },
  {
   "cell_type": "code",
   "execution_count": 4,
   "metadata": {},
   "outputs": [
    {
     "name": "stdout",
     "output_type": "stream",
     "text": [
      "Files Downloaded Successfully 🥳\n"
     ]
    }
   ],
   "source": [
    "import requests \n",
    "for url in range(len(urls)):\n",
    "    if urls[url].startswith('http'):\n",
    "\n",
    "        # URL of the file to be downloaded is defined as url \n",
    "        response = requests.get(urls[url]) # create HTTP response object \n",
    "\n",
    "        # send a HTTP request to the server and save \n",
    "        # the HTTP response in a response object called res\n",
    "        file_name = 'downloaded_files/file{}.html'.format(url) # Assuming all the url are html files\n",
    "        with open(file_name,'wb') as file: \n",
    "\n",
    "            # Saving received content as a file in binary format \n",
    "\n",
    "            # write the contents of the response (r.content) \n",
    "            # to a new file in binary mode. \n",
    "            file.write(response.content) \n",
    "        \n",
    "print('Files Downloaded Successfully 🥳')"
   ]
  },
  {
   "cell_type": "markdown",
   "metadata": {},
   "source": [
    "### Downloading Files from Google Drive\n",
    "\n",
    "If the URL file is located in the Google Drive then follow the below procedure\n",
    "\n",
    "original share link of a file in Google Drive will be as below:\n",
    "\n",
    "https://docs.google.com/document/d/FILE_ID\n",
    "\n",
    "The FILE_ID is unique for every file in Google Drive. If you copy this FILE_ID and use it in the URL below, you’ll get a direct link to download the file from Google Drive.\n",
    "\n",
    "https://docs.google.com/document/d/DOC_FILE_ID/export?format=pdf <-- format for docs file to be downloaded as pdf\n",
    "https://docs.google.com/document/d/DOC_FILE_ID/export?format=doc <-- format for docs file to be downloaded as doc\n",
    "https://drive.google.com/file/d/uc?export=download&id=DRIVE_FILE_ID <-- format for files to be downloaded from google drive\n",
    "\n",
    "After creating the direct link to download now get the response of the url and download the content"
   ]
  },
  {
   "cell_type": "markdown",
   "metadata": {},
   "source": [
    "### For downloading the google doc file in .doc format"
   ]
  },
  {
   "cell_type": "code",
   "execution_count": 5,
   "metadata": {},
   "outputs": [
    {
     "name": "stdout",
     "output_type": "stream",
     "text": [
      "File Downloaded Successfully 🥳\n"
     ]
    }
   ],
   "source": [
    "# Changing the original url to downloadable doc\n",
    "\n",
    "org_url = \"https://docs.google.com/document/d/1VTMfaT9oFXbjr0_yS9gvcnP5daVZV1OHBi0UhbjGeNc\"\n",
    "changed_url = org_url + '/export?format=doc'\n",
    "import requests \n",
    "\n",
    "# URL of the file to be downloaded is defined as url \n",
    "response = requests.get(changed_url) # create HTTP response object \n",
    "\n",
    "# send a HTTP request to the server and save \n",
    "# the HTTP response in a response object called response\n",
    "\n",
    "file_name = 'downloaded_files/sample.doc' \n",
    "with open(file_name,'wb') as file: \n",
    "\n",
    "    # Saving received content as a file in binary format \n",
    "\n",
    "    # write the contents of the response (r.content) \n",
    "    # to a new file in binary mode. \n",
    "    file.write(response.content) \n",
    "    \n",
    "print('File Downloaded Successfully 🥳')"
   ]
  },
  {
   "cell_type": "markdown",
   "metadata": {},
   "source": [
    "### For downloading the google doc file in .pdf format"
   ]
  },
  {
   "cell_type": "code",
   "execution_count": 6,
   "metadata": {},
   "outputs": [
    {
     "name": "stdout",
     "output_type": "stream",
     "text": [
      "File Downloaded Successfully 🥳\n"
     ]
    }
   ],
   "source": [
    "# Changing the original url to downloadable doc\n",
    "\n",
    "org_url = \"https://docs.google.com/document/d/1VTMfaT9oFXbjr0_yS9gvcnP5daVZV1OHBi0UhbjGeNc\"\n",
    "changed_url = org_url + '/export?format=doc'\n",
    "\n",
    "import requests \n",
    "\n",
    "response = requests.get(changed_url, stream = True) \n",
    "  \n",
    "with open(\"downloaded_files/sample.pdf\",\"wb\") as pdf: \n",
    "    for chunk in response.iter_content(chunk_size=1024): \n",
    "  \n",
    "         # writing one chunk at a time to pdf file \n",
    "         if chunk: \n",
    "             pdf.write(chunk) \n",
    "\n",
    "print('File Downloaded Successfully 🥳')"
   ]
  }
 ],
 "metadata": {
  "kernelspec": {
   "display_name": "Python 3",
   "language": "python",
   "name": "python3"
  },
  "language_info": {
   "codemirror_mode": {
    "name": "ipython",
    "version": 3
   },
   "file_extension": ".py",
   "mimetype": "text/x-python",
   "name": "python",
   "nbconvert_exporter": "python",
   "pygments_lexer": "ipython3",
   "version": "3.8.3"
  }
 },
 "nbformat": 4,
 "nbformat_minor": 4
}
